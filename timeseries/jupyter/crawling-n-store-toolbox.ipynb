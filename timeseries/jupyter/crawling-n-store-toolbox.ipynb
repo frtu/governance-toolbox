{
 "cells": [
  {
   "cell_type": "markdown",
   "metadata": {},
   "source": [
    "# Initialization & Methods"
   ]
  },
  {
   "cell_type": "code",
   "execution_count": 2,
   "metadata": {
    "collapsed": true
   },
   "outputs": [
    {
     "name": "stdout",
     "output_type": "stream",
     "text": [
      "Solving environment: failed\n",
      "\n",
      "PackagesNotFoundError: The following packages are not available from current channels:\n",
      "\n",
      "  - influxdb\n",
      "\n",
      "Current channels:\n",
      "\n",
      "  - https://conda.anaconda.org/mcrot/osx-64\n",
      "  - https://conda.anaconda.org/mcrot/noarch\n",
      "  - https://repo.anaconda.com/pkgs/main/osx-64\n",
      "  - https://repo.anaconda.com/pkgs/main/noarch\n",
      "  - https://repo.anaconda.com/pkgs/free/osx-64\n",
      "  - https://repo.anaconda.com/pkgs/free/noarch\n",
      "  - https://repo.anaconda.com/pkgs/r/osx-64\n",
      "  - https://repo.anaconda.com/pkgs/r/noarch\n",
      "  - https://repo.anaconda.com/pkgs/pro/osx-64\n",
      "  - https://repo.anaconda.com/pkgs/pro/noarch\n",
      "\n",
      "To search for alternate channels that may provide the conda package you're\n",
      "looking for, navigate to\n",
      "\n",
      "    https://anaconda.org\n",
      "\n",
      "and use the search bar at the top of the page.\n",
      "\n",
      "\n"
     ]
    }
   ],
   "source": [
    "# Uncomment to INSTALL influxdb the FIRST TIME\n",
    "#!conda install -c mcrot influxdb"
   ]
  },
  {
   "cell_type": "code",
   "execution_count": 1,
   "metadata": {},
   "outputs": [],
   "source": [
    "# Plot Inline\n",
    "%matplotlib inline"
   ]
  },
  {
   "cell_type": "markdown",
   "metadata": {},
   "source": [
    "# Acquisition & Store"
   ]
  },
  {
   "cell_type": "markdown",
   "metadata": {},
   "source": [
    "### INPUT : REST API"
   ]
  },
  {
   "cell_type": "code",
   "execution_count": 2,
   "metadata": {},
   "outputs": [],
   "source": [
    "import json\n",
    "import requests\n",
    "\n",
    "def getJsonUsingParams(url_template, **kwargs):\n",
    "    return getJson(url_template.format(kwargs))\n",
    "\n",
    "def getJson(url):\n",
    "    # Fetch the URL & get JSON data\n",
    "    print(\"Fetching URL : \" + url)\n",
    "    response = requests.get(url)\n",
    "    jsondata = response.json()\n",
    "    return jsondata"
   ]
  },
  {
   "cell_type": "code",
   "execution_count": 3,
   "metadata": {
    "collapsed": true
   },
   "outputs": [
    {
     "name": "stdout",
     "output_type": "stream",
     "text": [
      "Fetching URL : https://raw.githubusercontent.com/Freeboard/freeboard/master/examples/weather.json\n"
     ]
    },
    {
     "data": {
      "text/plain": [
       "{'header_image': '',\n",
       " 'allow_edit': True,\n",
       " 'panes': [{'title': 'Wind',\n",
       "   'width': 1,\n",
       "   'row': {'3': 1},\n",
       "   'col': {'3': 2},\n",
       "   'widgets': [{'type': 'pointer',\n",
       "     'settings': {'direction': 'datasources.Weather.wind_direction',\n",
       "      'value_text': 'var dir = datasources.Weather.wind_direction;\\n\\nif(dir <= 22.5)\\nreturn \"N\";\\nelse if(dir <= 67.5)\\nreturn \"NE\";\\nelse if(dir <= 112.5)\\nreturn \"E\";\\nelse if(dir <= 157.5)\\nreturn \"SE\";\\nelse if(dir <= 202.5)\\nreturn \"S\";\\nelse if(dir <= 247.5)\\nreturn \"SW\";\\nelse if(dir <= 292.5)\\nreturn \"W\";\\nelse if(dir <= 337.5)\\nreturn \"NW\";\\nelse if(dir <= 360)\\nreturn \"N\";'}},\n",
       "    {'type': 'text_widget',\n",
       "     'settings': {'size': 'regular',\n",
       "      'value': 'datasources.Weather.wind_speed',\n",
       "      'sparkline': True,\n",
       "      'animate': True,\n",
       "      'units': 'MPH'}}]},\n",
       "  {'width': 1,\n",
       "   'row': {'3': 5},\n",
       "   'col': {'3': 3},\n",
       "   'widgets': [{'type': 'text_widget',\n",
       "     'settings': {'title': 'Sunrise',\n",
       "      'size': 'regular',\n",
       "      'value': 'datasources.Weather.sunrise',\n",
       "      'animate': True}},\n",
       "    {'type': 'text_widget',\n",
       "     'settings': {'title': 'Sunset',\n",
       "      'size': 'regular',\n",
       "      'value': 'datasources.Weather.sunset',\n",
       "      'animate': True}}]},\n",
       "  {'title': 'Temperature',\n",
       "   'width': 1,\n",
       "   'row': {'3': 4},\n",
       "   'col': {'3': 1},\n",
       "   'widgets': [{'type': 'text_widget',\n",
       "     'settings': {'title': 'Current',\n",
       "      'size': 'big',\n",
       "      'value': 'datasources.Weather.current_temp',\n",
       "      'animate': True,\n",
       "      'units': '&deg;F'}},\n",
       "    {'type': 'text_widget',\n",
       "     'settings': {'title': 'High',\n",
       "      'size': 'regular',\n",
       "      'value': 'datasources.Weather.high_temp',\n",
       "      'animate': True,\n",
       "      'units': '&deg;F'}},\n",
       "    {'type': 'text_widget',\n",
       "     'settings': {'title': 'Low',\n",
       "      'size': 'regular',\n",
       "      'value': 'datasources.Weather.low_temp',\n",
       "      'animate': True,\n",
       "      'units': '&deg;F'}}]},\n",
       "  {'title': 'Info',\n",
       "   'width': 1,\n",
       "   'row': {'3': 1},\n",
       "   'col': {'3': 1},\n",
       "   'widgets': [{'type': 'text_widget',\n",
       "     'settings': {'title': 'City',\n",
       "      'size': 'regular',\n",
       "      'value': 'datasources.Weather.place_name',\n",
       "      'animate': True}},\n",
       "    {'type': 'text_widget',\n",
       "     'settings': {'title': 'Conditions',\n",
       "      'size': 'regular',\n",
       "      'value': 'datasources.Weather.conditions',\n",
       "      'animate': True}}]},\n",
       "  {'title': 'Humidity',\n",
       "   'width': 1,\n",
       "   'row': {'3': 1},\n",
       "   'col': {'3': 3},\n",
       "   'widgets': [{'type': 'gauge',\n",
       "     'settings': {'value': 'datasources.Weather.humidity',\n",
       "      'units': '%',\n",
       "      'min_value': 0,\n",
       "      'max_value': 100}}]},\n",
       "  {'title': 'Pressure',\n",
       "   'width': 1,\n",
       "   'row': {'3': 7},\n",
       "   'col': {'3': 2},\n",
       "   'widgets': [{'type': 'text_widget',\n",
       "     'settings': {'size': 'regular',\n",
       "      'value': 'datasources.Weather.pressure',\n",
       "      'sparkline': True,\n",
       "      'animate': True,\n",
       "      'units': 'mb'}}]}],\n",
       " 'datasources': [{'name': 'Weather',\n",
       "   'type': 'openweathermap',\n",
       "   'settings': {'location': 'New York, NY',\n",
       "    'units': 'imperial',\n",
       "    'refresh': 5}}]}"
      ]
     },
     "execution_count": 3,
     "metadata": {},
     "output_type": "execute_result"
    }
   ],
   "source": [
    "# TESTING : To run DEMO, look at Notebook => crawling-n-store-toolbox-demo.ipynb\n",
    "#jsonData = getJson('https://raw.githubusercontent.com/Freeboard/freeboard/master/examples/weather.json')\n",
    "#jsonData"
   ]
  },
  {
   "cell_type": "markdown",
   "metadata": {},
   "source": [
    "### INPUT & OUTPUT : File"
   ]
  },
  {
   "cell_type": "code",
   "execution_count": 3,
   "metadata": {},
   "outputs": [],
   "source": [
    "import json\n",
    "\n",
    "def storeData(path, content):\n",
    "    \"\"\"Store JSON pretty printed. See http://docs.python.org/library/json.html for more info.\"\"\"\n",
    "    with open(path, 'w') as file:\n",
    "        file.write(json.dumps(content, indent=4))"
   ]
  },
  {
   "cell_type": "code",
   "execution_count": 6,
   "metadata": {},
   "outputs": [],
   "source": [
    "# TESTING : To run DEMO, look at Notebook => crawling-n-store-toolbox-demo.ipynb\n",
    "# storeData('serie.json', jsonData)"
   ]
  },
  {
   "cell_type": "code",
   "execution_count": 4,
   "metadata": {},
   "outputs": [],
   "source": [
    "import json\n",
    "\n",
    "def readData(path):\n",
    "    \"\"\"See http://docs.python.org/library/json.html for more info.\"\"\"\n",
    "    with open(path, 'r') as file:\n",
    "        content = json.load(file)\n",
    "        return content"
   ]
  },
  {
   "cell_type": "code",
   "execution_count": 9,
   "metadata": {
    "collapsed": true
   },
   "outputs": [
    {
     "data": {
      "text/plain": [
       "{'header_image': '',\n",
       " 'allow_edit': True,\n",
       " 'panes': [{'title': 'Wind',\n",
       "   'width': 1,\n",
       "   'row': {'3': 1},\n",
       "   'col': {'3': 2},\n",
       "   'widgets': [{'type': 'pointer',\n",
       "     'settings': {'direction': 'datasources.Weather.wind_direction',\n",
       "      'value_text': 'var dir = datasources.Weather.wind_direction;\\n\\nif(dir <= 22.5)\\nreturn \"N\";\\nelse if(dir <= 67.5)\\nreturn \"NE\";\\nelse if(dir <= 112.5)\\nreturn \"E\";\\nelse if(dir <= 157.5)\\nreturn \"SE\";\\nelse if(dir <= 202.5)\\nreturn \"S\";\\nelse if(dir <= 247.5)\\nreturn \"SW\";\\nelse if(dir <= 292.5)\\nreturn \"W\";\\nelse if(dir <= 337.5)\\nreturn \"NW\";\\nelse if(dir <= 360)\\nreturn \"N\";'}},\n",
       "    {'type': 'text_widget',\n",
       "     'settings': {'size': 'regular',\n",
       "      'value': 'datasources.Weather.wind_speed',\n",
       "      'sparkline': True,\n",
       "      'animate': True,\n",
       "      'units': 'MPH'}}]},\n",
       "  {'width': 1,\n",
       "   'row': {'3': 5},\n",
       "   'col': {'3': 3},\n",
       "   'widgets': [{'type': 'text_widget',\n",
       "     'settings': {'title': 'Sunrise',\n",
       "      'size': 'regular',\n",
       "      'value': 'datasources.Weather.sunrise',\n",
       "      'animate': True}},\n",
       "    {'type': 'text_widget',\n",
       "     'settings': {'title': 'Sunset',\n",
       "      'size': 'regular',\n",
       "      'value': 'datasources.Weather.sunset',\n",
       "      'animate': True}}]},\n",
       "  {'title': 'Temperature',\n",
       "   'width': 1,\n",
       "   'row': {'3': 4},\n",
       "   'col': {'3': 1},\n",
       "   'widgets': [{'type': 'text_widget',\n",
       "     'settings': {'title': 'Current',\n",
       "      'size': 'big',\n",
       "      'value': 'datasources.Weather.current_temp',\n",
       "      'animate': True,\n",
       "      'units': '&deg;F'}},\n",
       "    {'type': 'text_widget',\n",
       "     'settings': {'title': 'High',\n",
       "      'size': 'regular',\n",
       "      'value': 'datasources.Weather.high_temp',\n",
       "      'animate': True,\n",
       "      'units': '&deg;F'}},\n",
       "    {'type': 'text_widget',\n",
       "     'settings': {'title': 'Low',\n",
       "      'size': 'regular',\n",
       "      'value': 'datasources.Weather.low_temp',\n",
       "      'animate': True,\n",
       "      'units': '&deg;F'}}]},\n",
       "  {'title': 'Info',\n",
       "   'width': 1,\n",
       "   'row': {'3': 1},\n",
       "   'col': {'3': 1},\n",
       "   'widgets': [{'type': 'text_widget',\n",
       "     'settings': {'title': 'City',\n",
       "      'size': 'regular',\n",
       "      'value': 'datasources.Weather.place_name',\n",
       "      'animate': True}},\n",
       "    {'type': 'text_widget',\n",
       "     'settings': {'title': 'Conditions',\n",
       "      'size': 'regular',\n",
       "      'value': 'datasources.Weather.conditions',\n",
       "      'animate': True}}]},\n",
       "  {'title': 'Humidity',\n",
       "   'width': 1,\n",
       "   'row': {'3': 1},\n",
       "   'col': {'3': 3},\n",
       "   'widgets': [{'type': 'gauge',\n",
       "     'settings': {'value': 'datasources.Weather.humidity',\n",
       "      'units': '%',\n",
       "      'min_value': 0,\n",
       "      'max_value': 100}}]},\n",
       "  {'title': 'Pressure',\n",
       "   'width': 1,\n",
       "   'row': {'3': 7},\n",
       "   'col': {'3': 2},\n",
       "   'widgets': [{'type': 'text_widget',\n",
       "     'settings': {'size': 'regular',\n",
       "      'value': 'datasources.Weather.pressure',\n",
       "      'sparkline': True,\n",
       "      'animate': True,\n",
       "      'units': 'mb'}}]}],\n",
       " 'datasources': [{'name': 'Weather',\n",
       "   'type': 'openweathermap',\n",
       "   'settings': {'location': 'New York, NY',\n",
       "    'units': 'imperial',\n",
       "    'refresh': 5}}]}"
      ]
     },
     "execution_count": 9,
     "metadata": {},
     "output_type": "execute_result"
    }
   ],
   "source": [
    "# TESTING : To run DEMO, look at Notebook => crawling-n-store-toolbox-demo.ipynb\n",
    "#jsonData = readData('serie.json')\n",
    "#jsonData"
   ]
  },
  {
   "cell_type": "markdown",
   "metadata": {},
   "source": [
    "### INPUT & OUTPUT : InfluxDB"
   ]
  },
  {
   "cell_type": "code",
   "execution_count": 5,
   "metadata": {},
   "outputs": [],
   "source": [
    "# http://influxdb-python.readthedocs.io/en/latest/examples.html#tutorials-pandas\n",
    "from influxdb import DataFrameClient\n",
    "\n",
    "def storeInflux(db_name, table_name, df, host='localhost', port=8086, **kwargs):\n",
    "    \"\"\"Instantiate the connection to the InfluxDB client.\"\"\"\n",
    "    user = 'root'\n",
    "    password = 'root'\n",
    "    \n",
    "    # Temporarily avoid line protocol time conversion issues #412, #426, #431.\n",
    "    protocol = 'json'\n",
    "\n",
    "    client = DataFrameClient(host, port, user, password, db_name)\n",
    "\n",
    "    #print(\"Write DataFrame:{}\".format(kwargs['cluster']))\n",
    "    client.write_points(df, table_name, kwargs, protocol=protocol)\n",
    "\n",
    "    print(\"DONE!\")"
   ]
  },
  {
   "cell_type": "code",
   "execution_count": null,
   "metadata": {},
   "outputs": [],
   "source": [
    "# TESTING : To run DEMO, look at Notebook => crawling-n-store-toolbox-demo.ipynb\n",
    "# Also need to create the database 'dbname' using bash and influx\n",
    "# Use the Docker instance of InfluxDB & Grafana at : https://github.com/frtu/governance-toolbox/tree/master/timeseries\n",
    "#storeInflux('dbname', dataframe)\n",
    "#or\n",
    "#storeInflux('dbname', dataframe, tags=tag_value)"
   ]
  },
  {
   "cell_type": "markdown",
   "metadata": {},
   "source": [
    "# Processing"
   ]
  },
  {
   "cell_type": "code",
   "execution_count": 6,
   "metadata": {},
   "outputs": [],
   "source": [
    "from pandas.io.json import json_normalize\n",
    "\n",
    "def fetchTimeSerie(url_template, json_data_tag='json_tag_containing_data', value_column_name='value', **kwargs):\n",
    "    url = url_template.format(**kwargs)\n",
    "    json = getJson(url)\n",
    "\n",
    "    # https://pandas.pydata.org/pandas-docs/stable/generated/pandas.io.json.json_normalize.html\n",
    "    df = json_normalize(json, json_value_tag)\n",
    "\n",
    "    # Move timestamp to index\n",
    "    # Delete the original timestamp column\n",
    "    df.index = parseTime(df[0])\n",
    "    df = df.drop(df.columns[[0]], axis=1)    \n",
    "\n",
    "    df.columns = [value_column_name]\n",
    "    return df\n",
    "\n",
    "def parseTime(timeColumn, timeunit='s', timezone='US/Pacific'):\n",
    "    \"\"\"Parse a column from a DataFrame : From epoch time to DatetimeIndex\"\"\"\n",
    "    timeserie = pd.to_datetime(timeColumn.tolist(), unit=timeunit)\n",
    "    timeserie.tz_localize('UTC').tz_convert(timezone)\n",
    "    timeserie.name = \"Time\"\n",
    "    \n",
    "    return timeserie"
   ]
  },
  {
   "cell_type": "code",
   "execution_count": 7,
   "metadata": {},
   "outputs": [],
   "source": [
    "import numpy as np\n",
    "import pandas as pd\n",
    "\n",
    "def buildTimeRange(start_date, periods=1, frequency='MS', date_format='%Y/%m/%d-%H:%M:%S.000Z'):\n",
    "    \"\"\"frequency : str or DateOffset, default 'D' (calendar daily)\n",
    "    Frequency strings can have multiples, e.g. '5H'. See\n",
    "    :ref:`here <timeseries.offset_aliases>` for a list of\n",
    "    frequency aliases.\n",
    "    \"\"\"\n",
    "    dates = pd.date_range(start_date, periods=(periods + 1), freq=frequency)\n",
    "    \n",
    "    # https://docs.python.org/2/library/datetime.html#strftime-and-strptime-behavior\n",
    "    list_dates = []\n",
    "    try:\n",
    "        for date in dates:\n",
    "            list_dates.append(date.strftime(date_format))\n",
    "        return list_dates\n",
    "    except Exception as ex:\n",
    "        return pd.NaT"
   ]
  },
  {
   "cell_type": "code",
   "execution_count": 3,
   "metadata": {
    "collapsed": true
   },
   "outputs": [
    {
     "data": {
      "text/plain": [
       "(['2018/04/01-00:00:00.000Z',\n",
       "  '2018/05/01-00:00:00.000Z',\n",
       "  '2018/06/01-00:00:00.000Z'],\n",
       " ['2018/04/01-00:00:00.000Z',\n",
       "  '2018/04/02-00:00:00.000Z',\n",
       "  '2018/04/03-00:00:00.000Z'],\n",
       " ['2018/07/01-00:00:00.000Z',\n",
       "  '2018/07/01-12:00:00.000Z',\n",
       "  '2018/07/02-00:00:00.000Z',\n",
       "  '2018/07/02-12:00:00.000Z',\n",
       "  '2018/07/03-00:00:00.000Z',\n",
       "  '2018/07/03-12:00:00.000Z',\n",
       "  '2018/07/04-00:00:00.000Z',\n",
       "  '2018/07/04-12:00:00.000Z',\n",
       "  '2018/07/05-00:00:00.000Z',\n",
       "  '2018/07/05-12:00:00.000Z',\n",
       "  '2018/07/06-00:00:00.000Z',\n",
       "  '2018/07/06-12:00:00.000Z',\n",
       "  '2018/07/07-00:00:00.000Z',\n",
       "  '2018/07/07-12:00:00.000Z',\n",
       "  '2018/07/08-00:00:00.000Z',\n",
       "  '2018/07/08-12:00:00.000Z',\n",
       "  '2018/07/09-00:00:00.000Z',\n",
       "  '2018/07/09-12:00:00.000Z',\n",
       "  '2018/07/10-00:00:00.000Z',\n",
       "  '2018/07/10-12:00:00.000Z',\n",
       "  '2018/07/11-00:00:00.000Z',\n",
       "  '2018/07/11-12:00:00.000Z',\n",
       "  '2018/07/12-00:00:00.000Z',\n",
       "  '2018/07/12-12:00:00.000Z',\n",
       "  '2018/07/13-00:00:00.000Z',\n",
       "  '2018/07/13-12:00:00.000Z',\n",
       "  '2018/07/14-00:00:00.000Z',\n",
       "  '2018/07/14-12:00:00.000Z',\n",
       "  '2018/07/15-00:00:00.000Z',\n",
       "  '2018/07/15-12:00:00.000Z',\n",
       "  '2018/07/16-00:00:00.000Z'])"
      ]
     },
     "execution_count": 3,
     "metadata": {},
     "output_type": "execute_result"
    }
   ],
   "source": [
    "# TESTING : To run DEMO, look at Notebook => crawling-n-store-toolbox-demo.ipynb\n",
    "#buildTimeRange('2018-04-01', 2, 'MS'), buildTimeRange('2018-04-01', 2, 'D'), buildTimeRange('2018-07-01', 30, '12H')"
   ]
  },
  {
   "cell_type": "code",
   "execution_count": 15,
   "metadata": {
    "collapsed": true
   },
   "outputs": [
    {
     "name": "stdout",
     "output_type": "stream",
     "text": [
      "2018/07/01-00:00:00.000Z => 2018/07/01-12:00:00.000Z\n",
      "2018/07/01-12:00:00.000Z => 2018/07/02-00:00:00.000Z\n",
      "2018/07/02-00:00:00.000Z => 2018/07/02-12:00:00.000Z\n",
      "2018/07/02-12:00:00.000Z => 2018/07/03-00:00:00.000Z\n"
     ]
    }
   ],
   "source": [
    "# TESTING : To run DEMO, look at Notebook => crawling-n-store-toolbox-demo.ipynb\n",
    "# Create time batches\n",
    "#time_range = buildTimeRange('2018-07-01', 4, '12H')\n",
    "#for i in range(len(time_range)):\n",
    "#    if i != 0:\n",
    "#        print(time_range[i-1], '=>', time_range[i])"
   ]
  },
  {
   "cell_type": "code",
   "execution_count": null,
   "metadata": {},
   "outputs": [],
   "source": []
  }
 ],
 "metadata": {
  "kernelspec": {
   "display_name": "Python 3",
   "language": "python",
   "name": "python3"
  },
  "language_info": {
   "codemirror_mode": {
    "name": "ipython",
    "version": 3
   },
   "file_extension": ".py",
   "mimetype": "text/x-python",
   "name": "python",
   "nbconvert_exporter": "python",
   "pygments_lexer": "ipython3",
   "version": "3.6.5"
  }
 },
 "nbformat": 4,
 "nbformat_minor": 2
}
